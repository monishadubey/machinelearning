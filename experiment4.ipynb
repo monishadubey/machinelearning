{
  "nbformat": 4,
  "nbformat_minor": 0,
  "metadata": {
    "colab": {
      "provenance": [],
      "authorship_tag": "ABX9TyN9nraJMTvfcoZdwglF1beZ",
      "include_colab_link": true
    },
    "kernelspec": {
      "name": "python3",
      "display_name": "Python 3"
    },
    "language_info": {
      "name": "python"
    }
  },
  "cells": [
    {
      "cell_type": "markdown",
      "metadata": {
        "id": "view-in-github",
        "colab_type": "text"
      },
      "source": [
        "<a href=\"https://colab.research.google.com/github/monishadubey/machinelearning/blob/main/experiment4.ipynb\" target=\"_parent\"><img src=\"https://colab.research.google.com/assets/colab-badge.svg\" alt=\"Open In Colab\"/></a>"
      ]
    },
    {
      "cell_type": "code",
      "execution_count": 1,
      "metadata": {
        "colab": {
          "base_uri": "https://localhost:8080/"
        },
        "id": "1XZDbfhIuaxO",
        "outputId": "9c03e36b-5de2-4931-cd67-33399426742e"
      },
      "outputs": [
        {
          "output_type": "stream",
          "name": "stdout",
          "text": [
            "the probability that it is friday and student is absent :  0.03\n",
            "the probability that it is friday:  0.2\n",
            "the probability that a student is absent and it is friday:  15.0 %\n"
          ]
        }
      ],
      "source": [
        "#the probability that it is friday and student absent is 3%\n",
        "pAF = 0.03\n",
        "print(\"the probability that it is friday and student is absent : \", pAF)\n",
        "#the probability that it is friday is 20%\n",
        "pF = 0.2\n",
        "print(\"the probability that it is friday: \",pF)\n",
        "#the probability that a student is absent and it is friday\n",
        "#display pRESULT\n",
        "pRESULT = (pAF/pF)\n",
        "print(\"the probability that a student is absent and it is friday: \", pRESULT * 100, \"%\")"
      ]
    }
  ]
}